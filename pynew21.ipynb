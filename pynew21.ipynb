{
  "nbformat": 4,
  "nbformat_minor": 0,
  "metadata": {
    "colab": {
      "provenance": [],
      "authorship_tag": "ABX9TyOYwaAkiAxGPVj6QlMa7IPE",
      "include_colab_link": true
    },
    "kernelspec": {
      "name": "python3",
      "display_name": "Python 3"
    },
    "language_info": {
      "name": "python"
    }
  },
  "cells": [
    {
      "cell_type": "markdown",
      "metadata": {
        "id": "view-in-github",
        "colab_type": "text"
      },
      "source": [
        "<a href=\"https://colab.research.google.com/github/adityasodani03/advancepython/blob/main/pynew21.ipynb\" target=\"_parent\"><img src=\"https://colab.research.google.com/assets/colab-badge.svg\" alt=\"Open In Colab\"/></a>"
      ]
    },
    {
      "cell_type": "markdown",
      "source": [
        "**Naive Bayers Model**"
      ],
      "metadata": {
        "id": "jrmvq0Gf1fIC"
      }
    },
    {
      "cell_type": "code",
      "source": [
        "from sklearn.feature_extraction.text import CountVectorizer\n",
        "from sklearn.naive_bayes import MultinomialNB\n",
        "from sklearn.pipeline import make_pipeline"
      ],
      "metadata": {
        "id": "IQHl3Dgm1k9B"
      },
      "execution_count": 1,
      "outputs": []
    },
    {
      "cell_type": "code",
      "source": [
        "#Dataset\n",
        "texts = [\n",
        "    \"buy cheap meds now\",\n",
        "    \"cheap pills online\",\n",
        "    \"get discount now\",\n",
        "    \"meeting at office\",\n",
        "    \"project discussion\",\n",
        "    \"schedule a meeting\"\n",
        "]\n",
        "\n",
        "labels = [\"spam\",\"spam\",\"spam\",\"not spam\",\"not spam\",\"not spam\"]"
      ],
      "metadata": {
        "id": "fqBu5wXH2Lc9"
      },
      "execution_count": 2,
      "outputs": []
    },
    {
      "cell_type": "code",
      "source": [
        "#create a model pipeline\n",
        "model = make_pipeline(CountVectorizer(), MultinomialNB(alpha=1.0))      #laplace smoothing with alpha=1\n",
        "\n",
        "\n",
        "#Train the model\n",
        "model.fit(texts,labels)\n",
        "\n",
        "#Test messages\n",
        "test_messages = [\n",
        "    \"cheap meds now\",\n",
        "    \"schedule a meeting\",\n",
        "    \"project schedule\",\n",
        "    \"discount online pills\",\n",
        "    \"meeting now\"\n",
        "]\n",
        "\n",
        "#Make predictions\n",
        "predicted = model.predict(test_messages)\n",
        "probs = model.predict_proba(test_messages)\n",
        "\n",
        "#Display results\n",
        "for msg , label , prob in zip(test_messages,predicted,probs):\n",
        "    print(f\"Message: '{msg}'\")\n",
        "    print(f\"Predicted Label: {label}\")\n",
        "    print(f\"probabilities : Spam={prob[model.classes_.tolist().index('spam')]:.2f}, Not Spam={prob[model.classes_.tolist().index('not spam')]:.2f} \")"
      ],
      "metadata": {
        "colab": {
          "base_uri": "https://localhost:8080/"
        },
        "id": "iKRu6die2nqR",
        "outputId": "856cd97b-9935-43f8-cdb8-3b9579bebb6f"
      },
      "execution_count": 3,
      "outputs": [
        {
          "output_type": "stream",
          "name": "stdout",
          "text": [
            "Message: 'cheap meds now'\n",
            "Predicted Label: spam\n",
            "probabilities : Spam=0.92, Not Spam=0.08 \n",
            "Message: 'schedule a meeting'\n",
            "Predicted Label: not spam\n",
            "probabilities : Spam=0.11, Not Spam=0.89 \n",
            "Message: 'project schedule'\n",
            "Predicted Label: not spam\n",
            "probabilities : Spam=0.16, Not Spam=0.84 \n",
            "Message: 'discount online pills'\n",
            "Predicted Label: spam\n",
            "probabilities : Spam=0.84, Not Spam=0.16 \n",
            "Message: 'meeting now'\n",
            "Predicted Label: not spam\n",
            "probabilities : Spam=0.43, Not Spam=0.57 \n"
          ]
        }
      ]
    },
    {
      "cell_type": "code",
      "source": [],
      "metadata": {
        "id": "IBg_ZoBF4hCV"
      },
      "execution_count": null,
      "outputs": []
    }
  ]
}